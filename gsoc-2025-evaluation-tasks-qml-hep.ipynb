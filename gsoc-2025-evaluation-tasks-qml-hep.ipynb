version https://git-lfs.github.com/spec/v1
oid sha256:3b1ebdea9ff6320d1a6fca81e3e83d1d030c28fa662cf253b4376711fbcdbc77
size 654372
